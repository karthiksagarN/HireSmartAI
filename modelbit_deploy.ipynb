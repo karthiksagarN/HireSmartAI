{
 "cells": [
  {
   "cell_type": "code",
   "execution_count": null,
   "metadata": {},
   "outputs": [
    {
     "data": {
      "text/html": [
       "\n",
       "<div style=\"margin: 0; padding: 5px; line-height: 1.75; font-size: 14px; vertical-align: baseline; list-style: none; font-family: Roboto, Arial, sans-serif; background: none;\">\n",
       "  <div style=\"margin: 0; padding: 0; line-height: 1.75; font-size: 14px; vertical-align: baseline; list-style: none; font-family: Roboto, Arial, sans-serif; background: none;\">\n",
       "    You're <span style=\"margin: 0; padding: 0; line-height: 1.75; font-size: 14px; vertical-align: baseline; list-style: none; font-family: Roboto, Arial, sans-serif; background: none; color: #15803d; font-weight: bold;\">connected</span> to Modelbit as karthik.sagarn@gmail.com.\n",
       "    Workspace: <span style=\"margin: 0; padding: 0; line-height: 1.75; font-size: 14px; vertical-align: baseline; list-style: none; font-family: monospace; background: none; font-weight: bold; color: #845B99;\">karthiksagar</span>.\n",
       "    \n",
       "      Region: <span style=\"margin: 0; padding: 0; line-height: 1.75; font-size: 14px; vertical-align: baseline; list-style: none; font-family: monospace; background: none; font-weight: bold; color: #845B99;\">us-east-1</span>\n",
       "    \n",
       "    Branch: <span style=\"margin: 0; padding: 0; line-height: 1.75; font-size: 14px; vertical-align: baseline; list-style: none; font-family: monospace; background: none; font-weight: bold; color: #845B99;\">main</span>\n",
       "\t</div>\n",
       "  \n",
       "\n",
       "\n",
       "\n",
       "\n",
       "\n",
       "\n",
       "</div>"
      ],
      "text/plain": [
       "<IPython.core.display.HTML object>"
      ]
     },
     "metadata": {},
     "output_type": "display_data"
    },
    {
     "data": {
      "text/html": [],
      "text/plain": [
       "<module 'modelbit' from '/Users/karthiksagar/anaconda3/lib/python3.11/site-packages/modelbit/__init__.py'>"
      ]
     },
     "execution_count": 1,
     "metadata": {},
     "output_type": "execute_result"
    }
   ],
   "source": [
    "import modelbit\n",
    "modelbit.login()"
   ]
  },
  {
   "cell_type": "code",
   "execution_count": null,
   "metadata": {},
   "outputs": [],
   "source": [
    "import modelbit as mb\n",
    "import io\n",
    "import pandas as pd\n",
    "import json\n",
    "from groq import Groq\n",
    "from dotenv import load_dotenv\n",
    "import base64\n",
    "\n",
    "load_dotenv()\n",
    "GROQ_API_KEY = mb.get_secret(\"GROQ_API_KEY\")\n",
    "\n",
    "def match_profile_with_groq(profile, job):\n",
    "\n",
    "    client = Groq(api_key=GROQ_API_KEY)\n",
    "    \n",
    "    prompt = f\"\"\"\n",
    "    You are an AI that evaluates the compatibility between a candidate's profile and a job description.\n",
    "    Your response must be strictly in JSON format with no extra text, explanations, or comments.\n",
    "\n",
    "    **Candidate Profile:**\n",
    "    {{\n",
    "        \"profile_id\": \"{profile.get(\"profile_id\")}\",\n",
    "        \"name\": \"{profile.get(\"name\")}\",\n",
    "        \"skills\": {json.dumps(profile.get(\"skills\", \"\").split(\", \"))},\n",
    "        \"interested_positions\": {json.dumps(profile.get(\"interested_position_titles\", \"\").split(\", \"))},\n",
    "        \"location\": \"{profile.get(\"location\")}\",\n",
    "        \"experience\": \"{profile.get(\"experience\")}\",\n",
    "        \"job_type\": \"{profile.get(\"job_type\")}\"\n",
    "    }}\n",
    "\n",
    "    **Job Description:**\n",
    "    {{\n",
    "        \"job_id\": \"{job.get(\"job_id\")}\",\n",
    "        \"title\": \"{job.get(\"title\")}\",\n",
    "        \"required_skills\": {json.dumps(job.get(\"skills\", \"\").split(\", \"))},\n",
    "        \"experience_required\": \"{job.get(\"experience\")}\",\n",
    "        \"location\": \"{job.get(\"locations\")}\",\n",
    "        \"employment_type\": {json.dumps(job.get(\"employment_type\", []))},\n",
    "        \"responsibilities\": \"{job.get(\"responsibilities\")}\",\n",
    "        \"requirements_summary\": \"{job.get(\"requirements_summary\")}\"\n",
    "    }}\n",
    "\n",
    "    **Task:**  \n",
    "    - Evaluate the match between the candidate's profile and job description.  \n",
    "    - Determine a match percentage (0-100%).  \n",
    "    - Categorize the fit as \"Good Fit\", \"Moderate Fit\", or \"Not a Good Fit\".  \n",
    "    - Identify missing skills or requirements.\n",
    "\n",
    "    **Response Format (STRICTLY RETURN ONLY THIS JSON, NO EXTRA TEXT):**\n",
    "    {{\n",
    "      \"profile_id\": \"{profile.get(\"profile_id\")}\",\n",
    "      \"match_percentage\": <match_value>,\n",
    "      \"fit_category\": \"<Good Fit | Moderate Fit | Not a Good Fit>\",\n",
    "      \"missing_criteria\": [\"List of missing skills or requirements\"]\n",
    "    }}\n",
    "    \"\"\"\n",
    "\n",
    "    response = client.chat.completions.create(\n",
    "        model=\"llama-3.3-70b-versatile\",\n",
    "        messages=[{\"role\": \"user\", \"content\": prompt}],\n",
    "        max_tokens=500,\n",
    "        temperature=0.7\n",
    "    )\n",
    "\n",
    "    return json.loads(response.choices[0].message.content)\n",
    "\n",
    "def process_profiles(csv_base64, job_data):\n",
    "    csv_decoded = base64.b64decode(csv_base64.split(\",\")[1]).decode(\"utf-8\")\n",
    "\n",
    "    df = pd.read_csv(io.StringIO(csv_decoded))\n",
    "\n",
    "    profile_matches = [] \n",
    "\n",
    "    for _, row in df.iterrows():\n",
    "        profile = row.to_dict()\n",
    "        result = match_profile_with_groq(profile, job_data)\n",
    "        profile_matches.append(result)\n",
    "\n",
    "    return profile_matches"
   ]
  },
  {
   "cell_type": "code",
   "execution_count": null,
   "metadata": {},
   "outputs": [
    {
     "data": {
      "text/html": [
       "<div style=\"margin: 0; padding: 5px; line-height: 1.75; font-size: 14px; vertical-align: baseline; list-style: none; font-family: Roboto, Arial, sans-serif; background: none;\">\n",
       "  <div>\n",
       "    <span style=\"margin: 0; padding: 0; line-height: 1.75; font-size: 14px; vertical-align: baseline; list-style: none; font-family: Roboto, Arial, sans-serif; background: none; font-weight: bold; color: #15803d;\">Preparing </span> <span style=\"margin: 0; padding: 3px; line-height: 1.75; font-size: 13px; vertical-align: baseline; list-style: none; font-family: monospace; background: none; font-weight: 400; background-color: rgba(209, 213, 219, 0.2);\">process_profiles</span>\n",
       "  </div>\n",
       "  \n",
       "\n",
       "  <div style=\"margin: 0; padding: 0; line-height: 1.75; font-size: 14px; vertical-align: baseline; list-style: none; font-family: Roboto, Arial, sans-serif; background: none;\">Uploading dependencies...</div>\n",
       "</div>"
      ],
      "text/plain": [
       "<IPython.core.display.HTML object>"
      ]
     },
     "metadata": {},
     "output_type": "display_data"
    },
    {
     "data": {
      "text/html": [
       "<div style=\"margin: 0; padding: 5px; line-height: 1.75; font-size: 14px; vertical-align: baseline; list-style: none; font-family: Roboto, Arial, sans-serif; background: none;\">\n",
       "  <div style=\"margin: 0; padding: 0; line-height: 1.75; font-size: 14px; vertical-align: baseline; list-style: none; font-family: Roboto, Arial, sans-serif; background: none; font-weight: bold; color: #15803d;\">Success!</div>\n",
       "  \n",
       "    <div style=\"margin: 0; padding: 0; line-height: 1.75; font-size: 14px; vertical-align: baseline; list-style: none; font-family: Roboto, Arial, sans-serif; background: none;\">\n",
       "      Deployment <span style=\"margin: 0; padding: 3px; line-height: 1.75; font-size: 13px; vertical-align: baseline; list-style: none; font-family: monospace; background: none; font-weight: 400; background-color: rgba(209, 213, 219, 0.2);\">process_profiles</span>\n",
       "      will be ready in  a few minutes.\n",
       "    </div>\n",
       "  \n",
       "\n",
       "  <a href=\"https://us-east-1.modelbit.com/w/karthiksagar/main/deployments/process_profiles/apis\" target=\"_blank\" style=\"display: inline-block; margin-top: 12px;\" >\n",
       "    <div\n",
       "      style=\"display: inline-block; background-color: #845B99; border-radius: 0.375rem; color: white; cursor: pointer; font-size: 14px; font-weight: 700; padding: 8px 16px;\"\n",
       "      onmouseenter=\"this.style.background='#714488'\"\n",
       "      onmouseleave=\"this.style.background='#845B99'\"\n",
       "    >\n",
       "      View in Modelbit\n",
       "    </div>\n",
       "  </a>\n",
       "</div>"
      ],
      "text/plain": [
       "<IPython.core.display.HTML object>"
      ]
     },
     "metadata": {},
     "output_type": "display_data"
    }
   ],
   "source": [
    "modelbit.deploy(process_profiles, python_packages=['httpx==0.27.0'])"
   ]
  },
  {
   "cell_type": "code",
   "execution_count": null,
   "metadata": {},
   "outputs": [],
   "source": []
  },
  {
   "cell_type": "code",
   "execution_count": null,
   "metadata": {},
   "outputs": [],
   "source": []
  }
 ],
 "metadata": {
  "kernelspec": {
   "display_name": "base",
   "language": "python",
   "name": "python3"
  },
  "language_info": {
   "codemirror_mode": {
    "name": "ipython",
    "version": 3
   },
   "file_extension": ".py",
   "mimetype": "text/x-python",
   "name": "python",
   "nbconvert_exporter": "python",
   "pygments_lexer": "ipython3",
   "version": "3.11.5"
  }
 },
 "nbformat": 4,
 "nbformat_minor": 2
}
